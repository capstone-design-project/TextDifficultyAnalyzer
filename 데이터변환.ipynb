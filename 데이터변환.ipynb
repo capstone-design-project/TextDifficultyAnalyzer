{
 "metadata": {
  "language_info": {
   "codemirror_mode": {
    "name": "ipython",
    "version": 3
   },
   "file_extension": ".py",
   "mimetype": "text/x-python",
   "name": "python",
   "nbconvert_exporter": "python",
   "pygments_lexer": "ipython3",
   "version": "3.8.5-final"
  },
  "orig_nbformat": 2,
  "kernelspec": {
   "name": "python3",
   "display_name": "Python 3.8.5 64-bit ('capstone')",
   "metadata": {
    "interpreter": {
     "hash": "b64137a2e02c896cac34fe351c340b5bc789fe105d6e841b49f35ab10a4eb61b"
    }
   }
  }
 },
 "nbformat": 4,
 "nbformat_minor": 2,
 "cells": [
  {
   "source": [
    "# 데이터 csv 변환 및 정리"
   ],
   "cell_type": "markdown",
   "metadata": {}
  },
  {
   "source": [
    "## 옥스퍼드 5000 "
   ],
   "cell_type": "markdown",
   "metadata": {}
  },
  {
   "cell_type": "code",
   "execution_count": 64,
   "metadata": {},
   "outputs": [
    {
     "output_type": "stream",
     "name": "stdout",
     "text": [
      "{'A1': ['a', 'about', 'above', 'across', 'action', 'activity', 'actor', 'actress', 'add', 'address', 'adult', 'advice', 'afraid', 'after', 'afternoon', 'again', 'age', 'ago', 'agree', 'air', 'airport', 'all', 'also', 'always', 'amazing', 'and', 'angry', 'animal', 'another', 'answer', 'any', 'anyone', 'anything', 'apartment', 'apple', 'april', 'area', 'arm', 'around', 'arrive', 'art', 'article', 'artist', 'as', 'ask', 'at', 'august', 'aunt', 'away', 'awesome', 'baby', 'back', 'bad', 'bag', 'ball', 'banana', 'band', 'bank', 'bar', 'baseball', 'basketball', 'bath', 'bathroom', 'be', 'beach', 'beautiful', 'because', 'become', 'bed', 'bedroom', 'beer', 'before', 'begin', 'beginning', 'behind', 'believe', 'below', 'best', 'better', 'between', 'bicycle', 'big', 'bike', 'bill', 'bird', 'birthday', 'black', 'blog', 'blond', 'blue', 'boat', 'body', 'book', 'boot', 'bored', 'boring', 'born', 'both', 'bottle', 'box', 'boy', 'boyfriend', 'bread', 'break', 'breakfast', 'bring', 'brother', 'brown', 'build', 'building', 'bus', 'business', 'busy', 'but', 'butter', 'buy', 'by', 'bye', 'cafe', 'cake', 'call', 'camera', 'can1', 'cannot', 'capital', 'car', 'card', 'career', 'carrot', 'carry', 'cat', 'cd', 'cent', 'center', 'chair', 'change', 'chart', 'cheap', 'check', 'cheese', 'chicken', 'child', 'chocolate', 'choose', 'city', 'class', 'classroom', 'clean', 'climb', 'clock', 'close1', 'clothes', 'club', 'coat', 'coffee', 'cold', 'college', 'color', 'come', 'common', 'company', 'compare', 'complete', 'computer', 'concert', 'conversation', 'cook', 'cooking', 'cool', 'correct', 'cost', 'could', 'country', 'course', 'cousin', 'cow', 'cream', 'create', 'culture', 'cup', 'customer', 'cut', 'dad', 'dance', 'dancer', 'dancing', 'dangerous', 'dark', 'date', 'daughter', 'day', 'dear', 'december', 'decide', 'delicious', 'describe', 'description', 'design', 'desk', 'detail', 'dialogue', 'dictionary', 'die', 'diet', 'difference', 'different', 'difficult', 'dinner', 'dirty', 'discuss', 'dish', 'do1', 'doctor', 'dog', 'dollar', 'door', 'down', 'downstairs', 'draw', 'dress', 'drink', 'drive', 'driver', 'during', 'dvd', 'each', 'ear', 'early', 'east', 'easy', 'eat', 'egg', 'eight', 'eighteen', 'eighty', 'elephant', 'eleven', 'else', 'email', 'end', 'enjoy', 'enough', 'euro', 'even', 'evening', 'event', 'ever', 'every', 'everybody', 'everyone', 'everything', 'exam', 'example', 'excited', 'exciting', 'exercise', 'expensive', 'explain', 'extra', 'eye', 'face', 'fact', 'fall', 'false', 'family', 'famous', 'fantastic', 'far', 'farm', 'farmer', 'fast', 'fat', 'father', 'favorite', 'february', 'feel', 'feeling', 'festival', 'few', 'fifteen', 'fifth', 'fifty', 'fill', 'final', 'find', 'fine', 'finish', 'fire', 'first', 'fish', 'five', 'flight', 'floor', 'flower', 'fly', 'follow', 'food', 'foot', 'football', 'for', 'forget', 'form', 'forty', 'four', 'fourteen', 'fourth', 'free', 'friday', 'friend', 'friendly', 'from', 'front', 'fruit', 'full', 'fun', 'funny', 'future', 'game', 'garden', 'geography', 'get', 'girl', 'girlfriend', 'give', 'glass', 'go', 'good', 'goodbye', 'grandfather', 'grandmother', 'grandparent', 'gray', 'great', 'green', 'group', 'grow', 'guess', 'guitar', 'gym', 'hair', 'half', 'hand', 'happen', 'happy', 'hard', 'hat', 'hate', 'have', 'have', 'he', 'head', 'health', 'healthy', 'hear', 'hello', 'help', 'her', 'here', 'hey', 'hi', 'high', 'him', 'his', 'history', 'hobby', 'home', 'homework', 'hope', 'horse', 'hospital', 'hot', 'hotel', 'hour', 'house', 'how', 'however', 'hundred', 'hungry', 'husband', 'i', 'ice', 'ice', 'idea', 'if', 'imagine', 'important', 'improve', 'in', 'include', 'information', 'interest', 'interested', 'interesting', 'internet', 'interview', 'into', 'introduce', 'island', 'it', 'its', 'jacket', 'january', 'jeans', 'job', 'join', 'juice', 'july', 'june', 'just', 'keep', 'key', 'kind', 'kitchen', 'know', 'land', 'language', 'large', 'last1', 'late', 'later', 'laugh', 'learn', 'leave', 'left', 'leg', 'lesson', 'let', 'letter', 'library', 'lie1', 'life', 'light', 'adj.', 'like', 'like', 'line', 'lion', 'list', 'listen', 'little', 'live1', 'local', 'long1', 'look', 'lose', 'lot', 'love', 'lunch', 'machine', 'magazine', 'main', 'make', 'mall', 'man', 'many', 'map', 'march', 'market', 'married', 'match', 'may', 'maybe', 'me', 'meal', 'mean', 'meaning', 'meat', 'meet', 'meeting', 'member', 'menu', 'message', 'meter', 'midnight', 'mile', 'milk', 'million', 'minute1', 'miss', 'mistake', 'model', 'modern', 'mom', 'moment', 'monday', 'money', 'month', 'more', 'morning', 'most', 'mother', 'mountain', 'mouse', 'mouth', 'move', 'movie', 'much', 'museum', 'music', 'must', 'my', 'name', 'natural', 'near', 'need', 'negative', 'neighbor', 'neighborhood', 'never', 'new', 'news', 'newspaper', 'next', 'next', 'nice', 'night', 'nine', 'nineteen', 'ninety', 'no', 'no', 'nobody', 'north', 'nose', 'not', 'note', 'nothing', 'november', 'now', 'number', 'nurse', 'object', 'ocean', 'o’clock', 'october', 'of', 'off', 'office', 'often', 'oh', 'ok', 'old', 'on', 'once', 'one', 'onion', 'online', 'only', 'open', 'opinion', 'opposite', 'or', 'orange', 'order', 'other', 'our', 'out', 'outside', 'over', 'own', 'page', 'paint', 'painting', 'pair', 'pants', 'paper', 'paragraph', 'parent', 'park', 'part', 'partner', 'party', 'passport', 'past', 'pay', 'pen', 'pencil', 'people', 'pepper', 'perfect', 'period', 'person', 'personal', 'phone', 'photo', 'photograph', 'phrase', 'piano', 'picture', 'piece', 'pig', 'pink', 'place', 'plan', 'plane', 'plant', 'play', 'player', 'please', 'point', 'police', 'policeman', 'pool', 'poor', 'popular', 'positive', 'possible', 'post', 'potato', 'pound', 'practice', 'prefer', 'prepare', 'present', 'pretty', 'price', 'probably', 'problem', 'product', 'program', 'project', 'purple', 'put', 'quarter', 'question', 'quick', 'quickly', 'quiet', 'quite', 'radio', 'rain', 'read', 'reader', 'reading', 'ready', 'real', 'really', 'reason', 'red', 'relax', 'remember', 'repeat', 'report', 'restaurant', 'result', 'return', 'rice', 'rich', 'ride', 'right', 'river', 'road', 'room', 'routine', 'rule', 'run', 'sad', 'salad', 'salt', 'same', 'sandwich', 'saturday', 'say', 'school', 'science', 'scientist', 'second1', 'det./number', 'second1', 'section', 'see', 'sell', 'send', 'sentence', 'september', 'seven', 'seventeen', 'seventy', 'share', 'she', 'sheep', 'shirt', 'shoe', 'shop', 'shopping', 'short', 'should', 'show', 'shower', 'sick', 'similar', 'sing', 'singer', 'sister', 'sit', 'situation', 'six', 'sixteen', 'sixty', 'skill', 'skirt', 'sleep', 'slow', 'small', 'smart', 'snake', 'snow', 'so', 'some', 'somebody', 'someone', 'something', 'sometimes', 'son', 'song', 'soon', 'sorry', 'sound', 'soup', 'south', 'space', 'speak', 'special', 'spell', 'spelling', 'spend', 'sport', 'spring', 'stand', 'star', 'start', 'statement', 'station', 'stay', 'still', 'stop', 'store', 'story', 'street', 'strong', 'student', 'study', 'style', 'subject', 'success', 'sugar', 'summer', 'sun', 'sunday', 'supermarket', 'sure', 'sweater', 'swim', 'swimming', 'table', 'take', 'talk', 'tall', 'taxi', 'tea', 'teach', 'teacher', 'team', 'teenager', 'telephone', 'television', 'tell', 'ten', 'tennis', 'terrible', 'test', 'text', 'than', 'thank', 'thanks', 'that', 'theater', 'their', 'them', 'then', 'there', 'they', 'thing', 'think', 'third', 'thirsty', 'thirteen', 'thirty', 'this', 'thousand', 'three', 'through', 'thursday', 'ticket', 'time', 'tired', 'title', 'to', 'today', 'together', 'toilet', 'tomato', 'tomorrow', 'tonight', 'too', 'tooth', 'topic', 'tourist', 'town', 'traffic', 'train', 'travel', 'tree', 'trip', 'truck', 'true', 'try', 't-shirt', 'tuesday', 'turn', 'tv', 'twelve', 'twenty', 'twice', 'two', 'type', 'umbrella', 'uncle', 'under', 'understand', 'university', 'until', 'up', 'upstairs', 'us', 'use', 'useful', 'usually', 'vacation', 'vegetable', 'very', 'video', 'visit', 'visitor', 'wait', 'waiter', 'wake', 'walk', 'wall', 'want', 'warm', 'wash', 'watch', 'water', 'way', 'we', 'wear', 'weather', 'website', 'wednesday', 'week', 'weekend', 'welcome', 'well', 'west', 'what', 'when', 'where', 'which', 'white', 'who', 'why', 'wife', 'will', 'win', 'window', 'wine', 'winter', 'with', 'without', 'woman', 'wonderful', 'word', 'work', 'worker', 'world', 'would', 'write', 'writer', 'writing', 'wrong', 'yard', 'yeah', 'year', 'yellow', 'yes', 'yesterday', 'you', 'young', 'your', 'yourself'], 'A2': ['ability', 'able', 'accept', 'accident', 'according', 'achieve', 'act', 'active', 'actually', 'adult', 'advantage', 'adventure', 'advertise', 'advertisement', 'advertising', 'affect', 'after', 'against', 'ah', 'airline', 'alive', 'all', 'all', 'allow', 'almost', 'alone', 'along', 'already', 'alternative', 'although', 'among', 'amount', 'analyze', 'ancient', 'ankle', 'any', 'anybody', 'anymore', 'anyway', 'anywhere', 'app', 'appear', 'appearance', 'apply', 'architect', 'architecture', 'argue', 'argument', 'army', 'arrange', 'arrangement', 'as', 'asleep', 'assistant', 'athlete', 'attack', 'attend', 'attention', 'attractive', 'audience', 'author', 'available', 'average', 'avoid', 'award', 'awful', 'back', 'background', 'badly', 'based', 'bean', 'bear', 'beat', 'beef', 'before', 'behave', 'behavior', 'belong', 'belt', 'benefit', 'best', 'better', 'between', 'billion', 'biology', 'birth', 'bit', 'blank', 'block', 'blood', 'blow', 'board', 'boil', 'bone', 'book', 'borrow', 'boss', 'bottom', 'bowl', 'brain', 'bridge', 'bright', 'brilliant', 'broken', 'brush', 'burn', 'businessman', 'button', 'camp', 'camping', 'campus', 'can2', 'candy', 'care', 'careful', 'carefully', 'carpet', 'cartoon', 'case', 'cash', 'catch', 'cause', 'celebrate', 'celebrity', 'cell', 'century', 'certain', 'certainly', 'chance', 'character', 'charity', 'chat', 'check', 'chef', 'chemistry', 'chip', 'choice', 'church', 'cigarette', 'circle', 'classical', 'clear', 'clearly', 'clerk', 'climate', 'close2', 'closed', 'closet', 'clothing', 'cloud', 'coach', 'coast', 'code', 'colleague', 'collect', 'column', 'comedy', 'comfortable', 'comment', 'communicate', 'community', 'compete', 'competition', 'complain', 'completely', 'condition', 'conference', 'connect', 'connected', 'consider', 'contain', 'context', 'continent', 'continue', 'control', 'cook', 'cookie', 'copy', 'corner', 'correctly', 'count', 'couple', 'cover', 'crazy', 'creative', 'credit', 'crime', 'criminal', 'cross', 'crowd', 'crowded', 'cry', 'curly', 'cycle', 'daily', 'danger', 'dark', 'data', 'dead', 'deal', 'death', 'decision', 'deep', 'definitely', 'degree', 'dentist', 'department', 'depend', 'desert', 'designer', 'dessert', 'destroy', 'detective', 'develop', 'device', 'diary', 'differently', 'digital', 'direct', 'direction', 'director', 'disagree', 'disappear', 'disaster', 'discover', 'discovery', 'discussion', 'disease', 'distance', 'divorced', 'document', 'double', 'download', 'downstairs', 'downtown', 'drama', 'drawing', 'dream', 'drive', 'driving', 'drop', 'drug', 'dry', 'earn', 'earth', 'easily', 'education', 'effect', 'either', 'electric', 'electrical', 'electricity', 'electronic', 'elevator', 'employ', 'employee', 'employer', 'empty', 'ending', 'energy', 'engine', 'engineer', 'enormous', 'enter', 'environment', 'equipment', 'error', 'especially', 'essay', 'everyday', 'everywhere', 'evidence', 'exact', 'exactly', 'excellent', 'except', 'exist', 'expect', 'experience', 'experiment', 'expert', 'explanation', 'express', 'expression', 'extreme', 'extremely', 'factor', 'factory', 'fail', 'fair', 'fan', 'farm', 'farming', 'fashion', 'fat', 'fear', 'feature', 'feed', 'female', 'fever', 'fiction', 'field', 'fight', 'figure', 'film', 'final', 'finally', 'finger', 'finish', 'fire', 'first', 'fish', 'fishing', 'fit', 'fix', 'flat', 'flu', 'fly', 'flying', 'focus', 'following', 'foreign', 'forest', 'fork', 'formal', 'fortunately', 'forward', 'free', 'fresh', 'frog', 'fun', 'furniture', 'further', 'future', 'gallery', 'gap', 'garbage', 'gas', 'gate', 'general', 'gift', 'goal', 'god', 'gold', 'golf', 'good', 'government', 'grass', 'greet', 'grocery', 'ground', 'guest', 'guide', 'gun', 'guy', 'habit', 'half', 'hall', 'happily', 'have', 'headache', 'heart', 'heat', 'heavy', 'height', 'helpful', 'hero', 'hers', 'herself', 'hide', 'high', 'hill', 'himself', 'his', 'hit', 'hockey', 'hold', 'hole', 'holiday', 'home', 'hope', 'huge', 'human', 'hurt', 'ideal', 'identify', 'ill', 'illness', 'image', 'immediately', 'impossible', 'included', 'including', 'increase', 'incredible', 'independent', 'individual', 'industry', 'informal', 'injury', 'insect', 'inside', 'instead', 'instruction', 'instructor', 'instrument', 'intelligent', 'international', 'introduction', 'invent', 'invention', 'invitation', 'invite', 'involve', 'item', 'itself', 'jam', 'jazz', 'jewelry', 'joke', 'journalist', 'jump', 'kid', 'kill', 'kilometer', 'king', 'knee', 'knife', 'knock', 'knowledge', 'lab', 'lady', 'lake', 'lamp', 'land', 'laptop', 'last1', 'last1', 'later', 'laughter', 'law', 'lawyer', 'lazy', 'lead1', 'leader', 'learning', 'least', 'lecture', 'lemon', 'lend', 'less', 'level', 'lifestyle', 'lift', 'light', 'light', 'likely', 'link', 'listener', 'little', 'lock', 'look', 'lost', 'loud', 'loudly', 'low', 'luck', 'lucky', 'mail', 'major', 'male', 'manage', 'manager', 'manner', 'mark', 'marry', 'material', 'math', 'mathematics', 'matter', 'may', 'mayor', 'media', 'medical', 'medicine', 'memory', 'mention', 'metal', 'method', 'middle', 'might', 'mind', 'mine', 'mirror', 'missing', 'monkey', 'moon', 'mostly', 'motorcycle', 'movement', 'musical', 'musician', 'myself', 'narrow', 'national', 'nature', 'nearly', 'necessary', 'neck', 'need', 'neither', 'nervous', 'network', 'noise', 'noisy', 'none', 'normal', 'normally', 'notice', 'novel', 'nowhere', 'number', 'nut', 'offer', 'officer', 'oil', 'onto', 'opportunity', 'option', 'ordinary', 'organization', 'organize', 'original', 'ourselves', 'outside', 'oven', 'overseas', 'own', 'owner', 'pack', 'pain', 'painter', 'palace', 'parking', 'particular', 'pass', 'passenger', 'past', 'patient', 'pattern', 'pay', 'peace', 'penny', 'per', 'percent', 'perform', 'perhaps', 'permission', 'personality', 'pet', 'photograph', 'physical', 'physics', 'pick', 'pilot', 'planet', 'plant', 'plastic', 'plate', 'platform', 'please', 'pleased', 'pocket', 'polite', 'pollution', 'pop', 'population', 'position', 'possession', 'possibility', 'poster', 'power', 'predict', 'present', 'president', 'prevent', 'print', 'printer', 'prison', 'prize', 'process', 'produce', 'professional', 'professor', 'profile', 'progress', 'promise', 'pronounce', 'protect', 'provide', 'public', 'publish', 'pull', 'purpose', 'push', 'quality', 'quantity', 'queen', 'question', 'quietly', 'race', 'railroad', 'raise', 'rate', 'rather', 'reach', 'react', 'realize', 'receive', 'recent', 'recently', 'reception', 'recipe', 'recognize', 'recommend', 'record', 'recording', 'recycle', 'reduce', 'refer', 'refrigerator', 'refuse1', 'region', 'regular', 'relationship', 'remove', 'repair', 'replace', 'reply', 'report', 'reporter', 'request', 'research', 'researcher', 'respond', 'response', 'rest', 'rest', 'review', 'ride', 'ring1', 'ring2', 'rise', 'rock', 'rock', 'role', 'roof', 'round', 'route', 'rude', 'run', 'runner', 'running', 'sadly', 'safe', 'sail', 'sailing', 'salary', 'sale', 'sauce', 'save', 'scared', 'scary', 'scene', 'schedule', 'score', 'screen', 'sea', 'search', 'season', 'seat', 'second1', 'secret', 'secretary', 'seem', 'sense', 'separate', 'series', 'serious', 'serve', 'service', 'several', 'shake', 'shape', 'sheet', 'ship', 'shoulder', 'shout', 'shut', 'side', 'sign', 'silver', 'simple', 'since', 'singing', 'single', 'sir', 'site', 'size', 'ski', 'skiing', 'skin', 'sky', 'sleep', 'slowly', 'smartphone', 'smell', 'smile', 'smoke', 'smoking', 'sneaker', 'soap', 'soccer', 'social', 'society', 'sock', 'soft', 'soldier', 'solution', 'solve', 'somewhere', 'sort', 'source', 'speaker', 'specific', 'speech', 'speed', 'spider', 'spoon', 'square', 'stage', 'stair', 'stamp', 'star', 'start', 'state', 'stay', 'steal', 'step', 'stomach', 'stone', 'storm', 'stove', 'straight', 'strange', 'strategy', 'stress', 'structure', 'stupid', 'subway', 'succeed', 'successful', 'such', 'suddenly', 'suggest', 'suggestion', 'suit', 'support', 'suppose', 'sure', 'surprise', 'surprised', 'surprising', 'survey', 'sweet', 'symbol', 'system', 'tablet', 'talk', 'target', 'task', 'taste', 'teaching', 'technology', 'teenage', 'temperature', 'term', 'text', 'themselves', 'thick', 'thief', 'thin', 'thinking', 'third', 'thought', 'throw', 'tie', 'tip', 'tool', 'top', 'touch', 'tour', 'tourism', 'toward', 'towel', 'tower', 'toy', 'track', 'tradition', 'traditional', 'train', 'training', 'transportation', 'trash', 'traveler', 'trouble', 'twin', 'typical', 'underground', 'understanding', 'unfortunately', 'unhappy', 'uniform', 'unit', 'united', 'unusual', 'upstairs', 'use', 'used', 'user', 'usual', 'valley', 'variety', 'vehicle', 'view', 'village', 'virus', 'voice', 'wait', 'war', 'wash', 'washing', 'wave', 'weak', 'web', 'wedding', 'weight', 'welcome', 'wet', 'wheel', 'while', 'whole', 'whose', 'wide', 'wild', 'wind1', 'winner', 'wish', 'wood', 'wooden', 'working', 'worried', 'worry', 'worse', 'worst', 'wow', 'yet', 'yours', 'zero'], 'B1': ['absolutely', 'academic', 'access', 'account', 'achievement', 'act', 'ad', 'addition', 'administration', 'admire', 'admit', 'advanced', 'advise', 'afford', 'age', 'agent', 'agreement', 'ahead', 'aim', 'alarm', 'album', 'alcohol', 'alcoholic', 'alternative', 'amazed', 'ambition', 'analysis', 'announce', 'announcement', 'annoy', 'annoyed', 'annoying', 'apart', 'apologize', 'application', 'appointment', 'appreciate', 'approximately', 'arrest', 'arrival', 'assignment', 'assist', 'atmosphere', 'attach', 'attitude', 'attract', 'attraction', 'authority', 'automatic', 'automatically', 'average', 'award', 'aware', 'backward', 'bake', 'balance', 'ban', 'bank', 'base', 'basic', 'basis', 'battery', 'battle', 'beauty', 'bee', 'belief', 'bell', 'bend', 'benefit', 'better', 'bite', 'block', 'board', 'bomb', 'border', 'bother', 'branch', 'brand', 'brave', 'breath', 'breathe', 'breathing', 'bride', 'bubble', 'bury', 'by', 'cable', 'calm', 'campaign', 'candidate', 'cap', 'captain', 'careless', 'category', 'ceiling', 'celebration', 'center', 'central', 'ceremony', 'chain', 'challenge', 'champion', 'channel', 'chapter', 'charge', 'cheap', 'cheat', 'cheerful', 'chemical', 'chest', 'childhood', 'claim', 'clause', 'clear', 'clever', 'click', 'client', 'climb', 'close2', 'cloth', 'clue', 'coach', 'coal', 'coin', 'collection', 'colored', 'combine', 'comment', 'commercial', 'commit', 'communication', 'comparison', 'competitive', 'competitor', 'complaint', 'complex', 'concentrate', 'conclude', 'conclusion', 'confident', 'confirm', 'confuse', 'confused', 'connection', 'consequence', 'consist', 'consume', 'consumer', 'contact', 'container', 'content1', 'continuous', 'contrast', 'convenient', 'convince', 'cool', 'corn', 'costume', 'cotton', 'count', 'countryside', 'court', 'cover', 'covered', 'cream', 'criminal', 'cruel', 'cultural', 'cupboard', 'currency', 'current', 'currently', 'curtain', 'custom', 'cut', 'daily', 'damage', 'deal', 'decade', 'deep', 'define', 'definite', 'definition', 'deliver', 'departure', 'despite', 'destination', 'determine', 'determined', 'development', 'diagram', 'diamond', 'difficulty', 'direct', 'directly', 'dirt', 'disadvantage', 'disappointed', 'disappointing', 'discount', 'dislike', 'district', 'divide', 'documentary', 'donate', 'double', 'doubt', 'dressed', 'drop', 'drum', 'drunk', 'due', 'dust', 'duty', 'earthquake', 'eastern', 'economic', 'economy', 'edge', 'editor', 'educate', 'educated', 'educational', 'effective', 'effectively', 'effort', 'election', 'element', 'embarrassed', 'embarrassing', 'emergency', 'emotion', 'employment', 'empty', 'encourage', 'enemy', 'engaged', 'engineering', 'entertain', 'entertainment', 'entrance', 'entry', 'environmental', 'episode', 'equal', 'equally', 'escape', 'essential', 'eventually', 'examine', 'except', 'exchange', 'excitement', 'exhibition', 'exit', 'expand', 'expected', 'experience', 'experienced', 'experiment', 'explode', 'explore', 'explosion', 'export', 'extra', 'face', 'fairly', 'familiar', 'fancy', 'far', 'fascinating', 'fashionable', 'fasten', 'favor', 'fear', 'feature', 'federal', 'fence', 'fighting', 'file', 'financial', 'fitness', 'fixed', 'flag', 'flood', 'flour', 'flow', 'fold', 'folk', 'following', 'force', 'forever', 'frame', 'freeze', 'frequently', 'friendship', 'frighten', 'frightened', 'frightening', 'frozen', 'fry', 'fuel', 'function', 'fur', 'further', 'garage', 'gather', 'generally', 'generation', 'generous', 'gentle', 'gentleman', 'ghost', 'giant', 'glad', 'global', 'glove', 'go', 'grade', 'graduate', 'grain', 'grateful', 'growth', 'guard', 'guilty', 'hand', 'hang', 'happiness', 'hardly', 'hate', 'head', 'headline', 'heating', 'heavily', 'helicopter', 'highlight', 'highly', 'highway', 'hire', 'historic', 'historical', 'honest', 'horrible', 'horror', 'host', 'hunt', 'hurricane', 'hurry', 'identity', 'ignore', 'illegal', 'imaginary', 'immediate', 'immigrant', 'impact', 'import', 'importance', 'impression', 'impressive', 'improvement', 'incredibly', 'indeed', 'indicate', 'indirect', 'indoor', 'indoors', 'influence', 'ingredient', 'injure', 'injured', 'innocent', 'intelligence', 'intend', 'intention', 'invest', 'investigate', 'involved', 'iron', 'issue', 'it', 'journal', 'journey', 'judge', 'key', 'keyboard', 'kick', 'killing', 'kind', 'kiss', 'knock', 'label', 'laboratory', 'lack', 'latest', 'lay', 'layer', 'lead1', 'leading', 'leaf', 'leather', 'legal', 'leisure', 'length', 'level', 'lie2', 'like', 'limit', 'lip', 'liquid', 'literature', 'live2', 'living', 'local', 'locate', 'located', 'location', 'lonely', 'loss', 'luxury', 'mad', 'magic', 'mainly', 'management', 'market', 'marketing', 'marriage', 'meanwhile', 'measure', 'medium', 'mental', 'mention', 'mess', 'mild', 'mine', 'mix', 'mixture', 'mood', 'move', 'mud', 'murder', 'muscle', 'musical', 'mystery', 'nail', 'narrative', 'nation', 'native', 'naturally', 'neat', 'necessarily', 'need', 'needle', 'neither', 'net', 'next', 'nor', 'normal', 'northern', 'note', 'now', 'nuclear', 'obvious', 'obviously', 'occasion', 'occur', 'odd', 'official', 'old-fashioned', 'once', 'operation', 'organized', 'organizer', 'original', 'originally', 'ought', 'ours', 'outdoor', 'outdoors', 'overseas', 'pack', 'package', 'painful', 'pale', 'pan', 'participate', 'particularly', 'pass', 'passion', 'path', 'payment', 'peaceful', 'percentage', 'perfectly', 'performance', 'personally', 'persuade', 'photographer', 'photography', 'pin', 'pipe', 'place', 'planning', 'pleasant', 'pleasure', 'plenty', 'plot', 'plus1', 'poem', 'poet', 'poetry', 'point', 'poison', 'poisonous', 'policy', 'political', 'politician', 'politics', 'port', 'portrait', 'possibly', 'pot', 'pour', 'poverty', 'powder', 'powerful', 'practical', 'pray', 'prayer', 'prediction', 'prepared', 'presentation', 'press', 'pressure', 'pretend', 'previous', 'previously', 'priest', 'primary', 'prince', 'princess', 'principal', 'printing', 'prisoner', 'private', 'producer', 'production', 'profession', 'profit', 'program', 'promote', 'proper', 'properly', 'property', 'protest', 'proud', 'prove', 'pull', 'punish', 'punishment', 'push', 'qualification', 'qualified', 'qualify', 'quit', 'quotation', 'quote', 'race', 'racing', 'raise', 'range', 'rare', 'rarely', 'reaction', 'reality', 'receipt', 'recommendation', 'reference', 'reflect', 'regularly', 'reject', 'relate', 'related', 'relation', 'relative', 'relaxed', 'relaxing', 'release', 'reliable', 'religion', 'religious', 'remain', 'remind', 'remote', 'rent', 'repair', 'repeat', 'repeated', 'represent', 'request', 'require', 'reservation', 'resource', 'respect', 'responsibility', 'responsible', 'result', 'retire', 'retired', 'revise', 'ring2', 'risk', 'robot', 'roll', 'romantic', 'rope', 'rough', 'row1', 'royal', 'rule', 'safety', 'sail', 'sailor', 'sample', 'sand', 'scan', 'scientific', 'script', 'sculpture', 'secondary', 'security', 'seed', 'sensible', 'separate', 'seriously', 'servant', 'set', 'set', 'setting', 'sex', 'sexual', 'shake', 'share', 'sharp', 'shelf', 'shell', 'shift', 'shine', 'shiny', 'shoot', 'shy', 'sight', 'signal', 'silent', 'silly', 'similarity', 'similarly', 'simply', 'since', 'sink', 'slave', 'slice', 'slightly', 'slow', 'smooth', 'software', 'soil', 'solid', 'sort', 'southern', 'specifically', 'spending', 'spicy', 'spirit', 'spoken', 'spot', 'spread', 'spring', 'stadium', 'staff', 'standard', 'state', 'statistic', 'statue', 'stick', 'stick', 'still', 'store', 'stranger', 'strength', 'string', 'strongly', 'studio', 'stuff', 'substance', 'successfully', 'sudden', 'suffer', 'suit', 'suitable', 'summarize', 'summary', 'supply', 'supporter', 'surely', 'surface', 'survive', 'swim', 'switch', 'symptom', 'tail', 'talent', 'talented', 'tape', 'tax', 'technical', 'technique', 'tend', 'tent', 'that', 'theirs', 'theme', 'theory', 'therefore', 'this', 'though', 'throat', 'throughout', 'tight', 'till', 'tiny', 'tip', 'tire', 'toe', 'ton', 'tongue', 'total', 'totally', 'touch', 'tour', 'trade', 'trainer', 'translate', 'translation', 'transport', 'treat', 'treatment', 'trend', 'trick', 'truth', 'tube', 'type', 'typically', 'ugly', 'unable', 'uncomfortable', 'underwear', 'unemployed', 'unemployment', 'unfair', 'union', 'unless', 'unlike', 'unlikely', 'unnecessary', 'unpleasant', 'update', 'upon', 'upset', 'used1', 'used2', 'valuable', 'value', 'various', 'version', 'victim', 'view', 'viewer', 'violent', 'volunteer', 'vote', 'warm', 'warn', 'warning', 'waste', 'water', 'wave', 'weapon', 'weigh', 'western', 'whatever', 'whenever', 'whether', 'while', 'whole', 'will', 'win', 'wing', 'within', 'wonder', 'wool', 'worldwide', 'worry', 'worse', 'worst', 'worth', 'written', 'wrong', 'young', 'youth'], 'B2': ['abandon', 'abroad', 'absolute', 'acceptable', 'accompany', 'account', 'accurate', 'accuse', 'acknowledge', 'acquire', 'actual', 'adapt', 'additional', 'address', 'adopt', 'advance', 'affair', 'afterward', 'agency', 'agenda', 'aggressive', 'aid', 'aircraft', 'alarm', 'alter', 'amount', 'anger', 'angle', 'anniversary', 'annual', 'anxious', 'apparent', 'apparently', 'appeal', 'approach', 'appropriate', 'approval', 'approve', 'arise', 'armed', 'arms', 'artificial', 'artistic', 'ashamed', 'aside', 'aspect', 'assess', 'assessment', 'associate', 'associated', 'association', 'assume', 'attempt', 'attorney', 'back', 'bacteria', 'bar', 'barrier', 'basically', 'battle', 'bear', 'beat', 'beg', 'being', 'bent', 'bet', 'beyond', 'bill', 'bitter', 'blame', 'blind', 'bond', 'border', 'breast', 'brief', 'broad', 'broadcast', 'budget', 'bullet', 'bunch', 'burn', 'bush', 'but', 'calculate', 'cancel', 'cancer', 'capable', 'capacity', 'capture', 'cast', 'catch', 'chain', 'chair', 'chairman', 'challenge', 'characteristic', 'chart', 'chief', 'circumstance', 'cite', 'citizen', 'civil', 'classic', 'close1', 'closely', 'collapse', 'combination', 'comfort', 'command', 'commission', 'commitment', 'committee', 'commonly', 'complex', 'complicated', 'component', 'concentration', 'concept', 'concern', 'concerned', 'conduct', 'confidence', 'conflict', 'confusing', 'congress', 'conscious', 'conservative', 'consideration', 'consistent', 'constant', 'constantly', 'construct', 'construction', 'contemporary', 'contest', 'contract', 'contribute', 'contribution', 'convert', 'convinced', 'core', 'corporate', 'council', 'county', 'courage', 'crash', 'creation', 'creature', 'credit', 'crew', 'crisis', 'criterion', 'critic', 'critical', 'criticism', 'criticize', 'crop', 'crucial', 'cry', 'cure', 'current', 'curve', 'curved', 'date', 'debate', 'debt', 'decent', 'declare', 'decline', 'decorate', 'decoration', 'decrease', 'deeply', 'defeat', 'defend', 'defense', 'delay', 'deliberate', 'deliberately', 'delivery', 'demand', 'demonstrate', 'deny', 'depressed', 'depressing', 'depth', 'desert', 'deserve', 'desire', 'desperate', 'detail', 'detailed', 'detect', 'dig', 'discipline', 'discount', 'dishonest', 'disk', 'dismiss', 'display', 'distribute', 'distribution', 'divide', 'division', 'document', 'domestic', 'dominate', 'downward', 'dozen', 'draft', 'drag', 'dramatic', 'edit', 'edition', 'efficient', 'elderly', 'elect', 'elsewhere', 'emerge', 'emotional', 'emphasis', 'emphasize', 'enable', 'encounter', 'engage', 'enhance', 'ensure', 'enthusiasm', 'enthusiastic', 'entire', 'entirely', 'equal', 'establish', 'estate', 'estimate', 'ethical', 'evaluate', 'even', 'evil', 'examination', 'excuse', 'executive', 'exhibit', 'existence', 'exit', 'expectation', 'expense', 'exploration', 'expose', 'extend', 'extent', 'external', 'extraordinary', 'extreme', 'facility', 'failure', 'faith', 'fault', 'favor', 'feather', 'fee', 'feed', 'feedback', 'feel', 'fellow', 'figure', 'file', 'finance', 'finding', 'firm', 'fix', 'flame', 'flash', 'flexible', 'float', 'fold', 'folding', 'following', 'forgive', 'former', 'fortune', 'forward', 'found', 'free', 'freedom', 'frequency', 'fuel', 'fully', 'function', 'fund', 'fundamental', 'funding', 'furthermore', 'gain', 'gang', 'generate', 'genre', 'goods', 'govern', 'governor', 'grab', 'grade', 'gradually', 'grand', 'grant', 'guarantee', 'handle', 'harm', 'harmful', 'hearing', 'heaven', 'heel', 'hell', 'hesitate', 'high', 'hire', 'hold', 'hollow', 'holy', 'honor', 'host', 'house', 'household', 'housing', 'humor', 'humorous', 'hunt', 'hunting', 'hurt', 'ideal', 'illustrate', 'illustration', 'imagination', 'impatient', 'imply', 'impose', 'impress', 'impressed', 'inch', 'incident', 'income', 'increasingly', 'industrial', 'infection', 'inform', 'initial', 'initially', 'initiative', 'inner', 'inquiry', 'insight', 'insist', 'inspire', 'install', 'instance', 'institute', 'institution', 'insurance', 'intended', 'intense', 'internal', 'interpret', 'interrupt', 'investigation', 'investment', 'issue', 'joy', 'judgment', 'junior', 'justice', 'justify', 'labor', 'landscape', 'largely', 'latest', 'launch', 'leadership', 'league', 'lean', 'leave', 'level', 'license', 'limited', 'line', 'lively', 'load', 'loan', 'logical', 'long-term', 'loose', 'lord', 'low', 'lower', 'lung', 'maintain', 'major', 'majority', 'make', 'map', 'mass', 'massive', 'master', 'matching', 'material', 'maximum', 'means', 'measurement', 'medium', 'melt', 'military', 'mineral', 'minimum', 'minister', 'minor', 'minority', 'mission', 'mistake', 'mixed', 'model', 'modify', 'monitor', 'moral', 'motor', 'mount', 'multiple', 'multiply', 'mysterious', 'narrow', 'national', 'negative', 'nerve', 'nevertheless', 'nightmare', 'notion', 'numerous', 'obey', 'object', 'objective', 'obligation', 'observation', 'observe', 'obtain', 'occasionally', 'offend', 'offense', 'offensive', 'official', 'opening', 'operate', 'opponent', 'oppose', 'opposed', 'opposition', 'organ', 'origin', 'otherwise', 'outcome', 'outer', 'outline', 'overall', 'owe', 'pace', 'package', 'panel', 'participant', 'partly', 'passage', 'patient', 'permanent', 'permit', 'perspective', 'phase', 'phenomenon', 'philosophy', 'pick', 'picture', 'pile', 'pitch', 'plain', 'plot', 'plus1', 'pointed', 'popularity', 'pose', 'position', 'positive', 'possess', 'potential', 'power', 'praise', 'pregnant', 'preparation', 'presence', 'preserve', 'price', 'prime', 'principal', 'principle', 'print', 'priority', 'privacy', 'procedure', 'process', 'produce', 'professional', 'progress', 'project', 'proof', 'proposal', 'propose', 'prospect', 'protection', 'psychologist', 'psychology', 'publication', 'purchase', 'pure', 'pursue', 'range', 'rank', 'rapid', 'rapidly', 'rate', 'raw', 'reach', 'realistic', 'reasonable', 'recall', 'recover', 'reduction', 'regard', 'regional', 'register', 'regret', 'regulation', 'relatively', 'relevant', 'relief', 'rely', 'remark', 'representative', 'reputation', 'requirement', 'rescue', 'reserve', 'resident', 'resist', 'resolve', 'resort', 'retain', 'reveal', 'revolution', 'reward', 'rhythm', 'rid', 'rise', 'root', 'round', 'routine', 'rub', 'rubber', 'rural', 'rush', 'sample', 'satellite', 'satisfied', 'satisfy', 'saving', 'scale', 'schedule', 'scream', 'screen', 'seat', 'sector', 'secure', 'seek', 'select', 'selection', 'self', 'senate', 'senator', 'senior', 'sense', 'sensitive', 'sentence', 'sequence', 'session', 'settle', 'severe', 'shade', 'shadow', 'shall', 'shallow', 'shame', 'shape', 'shelter', 'shift', 'ship', 'shock', 'shocked', 'shooting', 'shot', 'significant', 'significantly', 'silence', 'silk', 'sincere', 'slide', 'slight', 'slip', 'slope', 'solar', 'somewhat', 'soul', 'specialist', 'species', 'speed', 'spiritual', 'split', 'sponsor', 'spot', 'spread', 'stable', 'stage', 'stand', 'stare', 'status', 'steady', 'steel', 'steep', 'step', 'sticky', 'stiff', 'stock', 'stream', 'stretch', 'strict', 'strike', 'structure', 'struggle', 'stuff', 'subject', 'submit', 'sum', 'surgery', 'surround', 'surrounding', 'survey', 'suspect', 'swear', 'sweep', 'switch', 'sympathy', 'tale', 'tank', 'target', 'tear1', 'tear2', 'temporary', 'term', 'therapy', 'threat', 'threaten', 'thus', 'time', 'title', 'tone', 'tough', 'track', 'transfer', 'transform', 'transition', 'trial', 'trip', 'tropical', 'trouble', 'truly', 'trust', 'try', 'tune', 'tunnel', 'ultimately', 'unconscious', 'unexpected', 'unique', 'universe', 'unknown', 'upper', 'upward', 'urban', 'urge', 'value', 'van', 'vary', 'vast', 'venue', 'very', 'via', 'victory', 'violence', 'virtual', 'vision', 'visual', 'vital', 'vitamin', 'volume', 'wage', 'way', 'weakness', 'wealth', 'wealthy', 'whereas', 'wherever', 'whisper', 'whom', 'widely', 'wildlife', 'willing', 'wind2', 'wire', 'wise', 'witness', 'worse', 'worst', 'worth', 'wound', 'wrap', 'wrong', 'yet', 'zone', 'absorb', 'abstract', 'accent', 'accidentally', 'accommodate', 'accommodation', 'accomplish', 'accountant', 'accuracy', 'accurately', 'acid', 'acre', 'activate', 'addiction', 'additionally', 'adequate', 'adequately', 'adjust', 'affordable', 'aged', 'agriculture', 'aids', 'alien', 'alongside', 'altogether', 'ambitious', 'ambulance', 'amusing', 'analyst', 'ancestor', 'animation', 'annually', 'anticipate', 'anxiety', 'apology', 'applicant', 'appropriately', 'arrow', 'artwork', 'asset', 'assign', 'assistance', 'assumption', 'assure', 'astonishing', 'athletic', 'attachment', 'audio', 'awareness', 'awkward', 'badge', 'balanced', 'ballet', 'balloon', 'barely', 'bargain', 'basement', 'basket', 'bat', 'beneficial', 'beside', 'besides', 'bias', 'bid', 'biological', 'blanket', 'blow', 'bold', 'bombing', 'boost', 'bound', 'brick', 'briefly', 'broadcaster', 'broadly', 'buck', 'bug', 'cabin', 'canal', 'candle', 'carbon', 'castle', 'casual', 'cave', 'certainty', 'certificate', 'challenging', 'championship', 'charming', 'chase', 'cheek', 'cheer', 'chop', 'circuit', 'civilization', 'clarify', 'classify', 'cliff', 'clinic', 'clip', 'coincidence', 'collector', 'colony', 'colorful', 'comic', 'commander', 'comparative', 'completion', 'compose', 'composer', 'compound', 'comprehensive', 'comprise', 'compulsory', 'concrete', 'confess', 'confusion', 'consequently', 'conservation', 'considerable', 'considerably', 'consistently', 'conspiracy', 'consult', 'consultant', 'consumption', 'controversial', 'controversy', 'convenience', 'convention', 'conventional', 'convey', 'convincing', 'cop', 'cope', 'corporation', 'corridor', 'counter', 'coverage', 'cowboy', 'crack', 'craft', 'creativity', 'critically', 'cruise', 'cue', 'curious', 'curriculum', 'cute', 'dairy', 'dare', 'darkness', 'database', 'deadline', 'deadly', 'dealer', 'deck', 'defender', 'delete', 'delighted', 'democracy', 'democratic', 'demonstration', 'depart', 'dependent', 'deposit', 'depression', 'derive', 'desperately', 'destruction', 'determination', 'devote', 'differ', 'dime', 'disability', 'disabled', 'disagreement', 'disappoint', 'disappointment', 'discourage', 'disorder', 'distant', 'distinct', 'distinguish', 'distract', 'disturb', 'dive', 'diverse', 'diversity', 'divorce', 'dominant', 'donation', 'dot', 'dramatically', 'drought', 'dull', 'dump', 'duration', 'dynamic', 'eager', 'economics', 'economist', 'editorial', 'efficiently', 'elbow', 'electronics', 'elegant', 'elementary', 'eliminate', 'embrace', 'emission', 'emotionally', 'empire', 'enjoyable', 'entertaining', 'entrepreneur', 'envelope', 'equip', 'equivalent', 'era', 'erupt', 'essentially', 'ethic', 'ethnic', 'evaluation', 'evident', 'evolution', 'evolve', 'exceed', 'exception', 'excessive', 'exclude', 'exotic', 'expansion', 'expedition', 'expertise', 'exploit', 'exposure', 'extension', 'extensive', 'extensively', 'extract', 'fabric', 'fabulous', 'faculty', 'failed', 'fake', 'fame', 'fantasy', 'fare', 'firefighter', 'firework', 'firm', 'firmly', 'flavor', 'fond', 'fool', 'forbid', 'forecast', 'format', 'formation', 'formerly', 'fortunate', 'forum', 'fossil', 'foundation', 'founder', 'fraction', 'fragment', 'framework', 'fraud', 'freely', 'frequent', 'fulfill', 'full-time', 'fundamentally', 'furious', 'gallon', 'gaming', 'gay', 'gender', 'gene', 'genetic', 'genius', 'genuine', 'genuinely', 'gesture', 'globalization', 'globe', 'golden', 'goodness', 'gorgeous', 'graphic', 'graphics', 'greatly', 'greenhouse', 'guideline', 'habitat', 'harbor', 'headquarters', 'heal', 'healthcare', 'helmet', 'hence', 'herb', 'hidden', 'hilarious', 'hip', 'historian', 'homeless', 'honesty', 'honey', 'hook', 'hopefully', 'hunger', 'hypothesis', 'icon', 'id', 'identical', 'illusion', 'immigration', 'immune', 'implement', 'implication', 'incentive', 'incorporate', 'incorrect', 'independence', 'index', 'indication', 'inevitable', 'inevitably', 'infer', 'inflation', 'info', 'infrastructure', 'inhabitant', 'inherit', 'ink', 'innovation', 'innovative', 'input', 'insert', 'inspector', 'installation', 'instant', 'instantly', 'integrate', 'intellectual', 'interact', 'interaction', 'interpretation', 'interval', 'invade', 'invasion', 'investor', 'isolate', 'isolated', 'jail', 'jet', 'joint', 'journalism', 'jury', 'kindergarten', 'kit', 'ladder', 'landing', 'lane', 'lately', 'legend', 'lens', 'lifetime', 'lighting', 'likewise', 'limitation', 'literally', 'literary', 'litter', 'logo', 'lottery', 'loyal', 'lyric', 'makeup', 'making', 'manufacture', 'manufacturing', 'marathon', 'margin', 'marker', 'martial', 'mate', 'mechanic', 'mechanical', 'mechanism', 'medal', 'medication', 'membership', 'memorable', 'metaphor', 'miner', 'miserable', 'mode', 'modest', 'monster', 'monthly', 'monument', 'moreover', 'mortgage', 'mosque', 'mosquito', 'motion', 'motivate', 'motivation', 'moving', 'myth', 'naked', 'nasty', 'navigation', 'nearby', 'necessity', 'negotiate', 'negotiation', 'neutral', 'newly', 'nickel', 'norm', 'notebook', 'novelist', 'nowadays', 'nursing', 'nutrition', 'obesity', 'observer', 'obstacle', 'occupation', 'occupy', 'offender', 'ongoing', 'openly', 'opera', 'operator', 'optimistic', 'orchestra', 'organic', 'outfit', 'output', 'outstanding', 'overcome', 'overnight', 'ownership', 'oxygen', 'packet', 'palm', 'panic', 'parade', 'parallel', 'participation', 'partnership', 'part-time', 'passionate', 'password', 'patch', 'patience', 'pause', 'peer', 'penalty', 'perceive', 'perception', 'permanently', 'pharmacy', 'physician', 'pill', 'pity', 'placement', 'portion', 'potentially', 'precede', 'precious', 'precise', 'precisely', 'predictable', 'preference', 'presidential', 'pride', 'primarily', 'prior', 'probability', 'probable', 'proceed', 'programming', 'progressive', 'prohibit', 'promising', 'promotion', 'prompt', 'proportion', 'protein', 'protester', 'psychological', 'publicity', 'publishing', 'punk', 'purely', 'pursuit', 'puzzle', 'questionnaire', 'racial', 'racism', 'racist', 'radiation', 'rail', 'random', 'rat', 'rating', 'reasonably', 'rebuild', 'receiver', 'recession', 'reckon', 'recognition', 'recovery', 'recruit', 'referee', 'refugee', 'registration', 'regulate', 'reinforce', 'relieve', 'relieved', 'remarkable', 'remarkably', 'rental', 'reporting', 'resign', 'resolution', 'restore', 'restrict', 'restriction', 'résumé', 'retail', 'retirement', 'revenue', 'revision', 'ridiculous', 'risky', 'rival', 'rob', 'robbery', 'rocket', 'romance', 'rose', 'roughly', 'ruin', 'satisfaction', 'scandal', 'scare', 'scenario', 'scholar', 'scholarship', 'scratch', 'screening', 'seeker', 'seminar', 'settler', 'severely', 'sexy', 'shaped', 'shocking', 'shore', 'shortage', 'shortly', 'short-term', 'sibling', 'sidewalk', 'signature', 'significance', 'skilled', 'skull', 'slogan', 'so-called', 'somehow', 'sometime', 'sophisticated', 'spare', 'specialize', 'specify', 'spectacular', 'spectator', 'speculate', 'speculation', 'spice', 'spill', 'spite', 'spoil', 'spokesman', 'spokesperson', 'spokeswoman', 'sponsorship', 'stall', 'stance', 'starve', 'steadily', 'steam', 'stimulate', 'strengthen', 'strictly', 'stroke', 'stunning', 'subsequent', 'subsequently', 'suburb', 'suffering', 'sufficient', 'sufficiently', 'super', 'surgeon', 'survival', 'survivor', 'suspend', 'sustainable', 'swallow', 'sympathetic', 'tackle', 'tag', 'tap', 'technological', 'teen', 'temple', 'temporarily', 'tendency', 'tension', 'terminal', 'terms', 'terribly', 'terrify', 'territory', 'terror', 'terrorism', 'terrorist', 'testing', 'textbook', 'theft', 'therapist', 'thesis', 'thorough', 'thoroughly', 'thumb', 'timing', 'tissue', 'tournament', 'trace', 'trading', 'tragedy', 'tragic', 'trait', 'transmit', 'trap', 'treasure', 'tribe', 'trigger', 'trillion', 'troop', 'tsunami', 'ultimate', 'unacceptable', 'uncertainty', 'undergo', 'undertake', 'unfold', 'unfortunate', 'unite', 'unity', 'universal', 'urgent', 'usage', 'useless', 'valid', 'variation', 'vertical', 'viewpoint', 'visa', 'visible', 'voluntary', 'voting', 'wander', 'warming', 'weekly', 'weird', 'welfare', 'wheat', 'whoever', 'widespread', 'wisdom', 'withdraw', 'wolf', 'workforce', 'workplace', 'workshop', 'worm', 'wrist'], 'C1': ['abolish', 'abortion', 'absence', 'absent', 'absurd', 'abuse', 'academy', 'accelerate', 'acceptance', 'accessible', 'accomplishment', 'accordingly', 'accountability', 'accountable', 'accumulate', 'accumulation', 'accusation', 'accused', 'acid', 'acquisition', 'activation', 'activist', 'acute', 'adaptation', 'adhere', 'adjacent', 'adjustment', 'administer', 'administrative', 'administrator', 'admission', 'adolescent', 'adoption', 'adverse', 'advocate', 'aesthetic', 'affection', 'aftermath', 'aggression', 'agricultural', 'aide', 'alert', 'alien', 'align', 'alignment', 'alike', 'allegation', 'allege', 'allegedly', 'alliance', 'allocate', 'allocation', 'allowance', 'ally', 'aluminum', 'amateur', 'ambassador', 'amend', 'amendment', 'amid', 'analogy', 'anchor', 'angel', 'anonymous', 'apparatus', 'apparel', 'appealing', 'appetite', 'applaud', 'applicable', 'appoint', 'appreciation', 'arbitrary', 'architectural', 'archive', 'arena', 'arm', 'array', 'articulate', 'ash', 'aspiration', 'aspire', 'assassination', 'assault', 'assemble', 'assembly', 'assert', 'assertion', 'assurance', 'asylum', 'atrocity', 'attain', 'attendance', 'attribute', 'auction', 'audit', 'authentic', 'authorize', 'auto', 'autonomy', 'autumn', 'availability', 'await', 'backdrop', 'backing', 'backup', 'bail', 'ballot', 'bankruptcy', 'banner', 'bare', 'barrel', 'bass1', 'bat', 'battlefield', 'bay', 'beam', 'beast', 'behalf', 'behavioral', 'beloved', 'bench', 'benchmark', 'beneath', 'beneficiary', 'betray', 'beverage', 'bind', 'biography', 'bishop', 'bizarre', 'blade', 'blast', 'bleed', 'blend', 'bless', 'blessing', 'boast', 'bonus', 'booking', 'boom', 'bounce', 'boundary', 'bow1', 'breach', 'breakdown', 'breakthrough', 'breed', 'broadband', 'browser', 'brutal', 'buddy', 'buffer', 'bulk', 'burden', 'bureaucracy', 'burial', 'burst', 'cabinet', 'calculation', 'canvas', 'capability', 'capitalism', 'capitalist', 'cargo', 'carriage', 'carve', 'casino', 'casualty', 'catalog', 'cater', 'cattle', 'caution', 'cautious', 'cease', 'cemetery', 'chamber', 'chaos', 'characterize', 'charm', 'charter', 'choir', 'chronic', 'chunk', 'circulate', 'circulation', 'citizenship', 'civic', 'civilian', 'clarity', 'clash', 'classification', 'cling', 'clinical', 'closure', 'cluster', 'coalition', 'coastal', 'cocktail', 'cognitive', 'coincide', 'collaborate', 'collaboration', 'collective', 'collision', 'colonial', 'columnist', 'combat', 'commence', 'commentary', 'commentator', 'commerce', 'commissioner', 'commodity', 'communist', 'companion', 'comparable', 'compassion', 'compel', 'compelling', 'compensate', 'compensation', 'competence', 'competent', 'compile', 'complement', 'complexity', 'compliance', 'complication', 'comply', 'composition', 'compromise', 'compute', 'conceal', 'concede', 'conceive', 'conception', 'concession', 'condemn', 'confer', 'confession', 'configuration', 'confine', 'confirmation', 'confront', 'confrontation', 'congratulate', 'congregation', 'congressional', 'conquer', 'conscience', 'consciousness', 'consecutive', 'consensus', 'consent', 'conserve', 'consistency', 'consolidate', 'constitute', 'constitution', 'constitutional', 'constraint', 'consultation', 'contemplate', 'contempt', 'contend', 'contender', 'content2', 'contention', 'continually', 'contractor', 'contradiction', 'contrary', 'contributor', 'conversion', 'convict', 'conviction', 'cooperate', 'cooperative', 'coordinate', 'coordination', 'coordinator', 'copper', 'copyright', 'correction', 'correlate', 'correlation', 'correspond', 'correspondence', 'correspondent', 'corresponding', 'corrupt', 'corruption', 'costly', 'councilor', 'counseling', 'counselor', 'counter', 'counterpart', 'countless', 'coup', 'courtesy', 'craft', 'crawl', 'creator', 'credibility', 'credible', 'creep', 'critique', 'crown', 'crude', 'crush', 'crystal', 'cult', 'cultivate', 'curiosity', 'custody', 'cutting', 'cynical', 'dam', 'damaging', 'dawn', 'debris', 'debut', 'decision-making', 'decisive', 'declaration', 'dedicated', 'dedication', 'deed', 'deem', 'default', 'defect', 'defensive', 'deficiency', 'deficit', 'defy', 'delegate', 'delegation', 'delicate', 'demon', 'denial', 'denounce', 'dense', 'density', 'dependence', 'depict', 'deploy', 'deployment', 'deprive', 'deputy', 'descend', 'descent', 'designate', 'desirable', 'desktop', 'destructive', 'detain', 'detection', 'detention', 'deteriorate', 'devastate', 'devil', 'devise', 'diagnose', 'diagnosis', 'dictate', 'dictator', 'differentiate', 'dignity', 'dilemma', 'dimension', 'diminish', 'dip', 'diplomat', 'diplomatic', 'directory', 'disastrous', 'discard', 'discharge', 'disclose', 'disclosure', 'discourse', 'discretion', 'discrimination', 'dismissal', 'displace', 'disposal', 'dispose', 'dispute', 'disrupt', 'disruption', 'dissolve', 'distinction', 'distinctive', 'distort', 'distress', 'disturbing', 'divert', 'divine', 'doctrine', 'documentation', 'domain', 'dominance', 'donor', 'dose', 'drain', 'drift', 'driving', 'drown', 'dual', 'dub', 'dumb', 'duo', 'dynamic', 'earnings', 'ease', 'echo', 'ecological', 'educator', 'effectiveness', 'efficiency', 'ego', 'elaborate', 'electoral', 'elevate', 'eligible', 'elite', 'embark', 'embarrassment', 'embassy', 'embed', 'embody', 'emergence', 'empirical', 'empower', 'enact', 'encompass', 'encouragement', 'encouraging', 'endeavor', 'endless', 'endorse', 'endorsement', 'endure', 'enforce', 'enforcement', 'engagement', 'engaging', 'enrich', 'enroll', 'ensue', 'enterprise', 'enthusiast', 'entitle', 'entity', 'epidemic', 'equality', 'equation', 'erect', 'escalate', 'essence', 'establishment', 'eternal', 'evacuate', 'evoke', 'evolutionary', 'exaggerate', 'excellence', 'exceptional', 'excess', 'exclusion', 'exclusive', 'exclusively', 'execute', 'execution', 'exert', 'exile', 'expenditure', 'experimental', 'expire', 'explicit', 'explicitly', 'exploitation', 'explosive', 'extract', 'extremist', 'facilitate', 'faction', 'fade', 'fairness', 'fatal', 'fate', 'favorable', 'feat', 'felony', 'feminist', 'fiber', 'fierce', 'filmmaker', 'filter', 'fine', 'firearm', 'fiscal', 'fit', 'flaw', 'flawed', 'flee', 'fleet', 'flesh', 'flexibility', 'flourish', 'fluid', 'footage', 'foreigner', 'forge', 'formula', 'formulate', 'forth', 'forthcoming', 'foster', 'fragile', 'franchise', 'frankly', 'freshman', 'frustrated', 'frustrating', 'frustration', 'functional', 'fundraising', 'funeral', 'gambling', 'gathering', 'gaze', 'gear', 'generic', 'genocide', 'gig', 'glance', 'glimpse', 'glorious', 'glory', 'governance', 'grace', 'grasp', 'grave', 'grave', 'gravity', 'grid', 'grief', 'grin', 'grind', 'grip', 'gross', 'guerrilla', 'guidance', 'guilt', 'gut', 'hail', 'halfway', 'halt', 'handful', 'handling', 'handy', 'harassment', 'hardware', 'harmony', 'harsh', 'harvest', 'hatred', 'haunt', 'hazard', 'heighten', 'heritage', 'hierarchy', 'high-profile', 'hint', 'homeland', 'hook', 'hopeful', 'horizon', 'horn', 'hostage', 'hostile', 'hostility', 'humanitarian', 'humanity', 'humble', 'hydrogen', 'identification', 'ideological', 'ideology', 'idiot', 'ignorance', 'imagery', 'immense', 'imminent', 'implementation', 'imprison', 'inability', 'inadequate', 'inappropriate', 'incarcerate', 'incarceration', 'incidence', 'inclined', 'inclusion', 'incur', 'indicator', 'indictment', 'indigenous', 'induce', 'indulge', 'inequality', 'infamous', 'infant', 'infect', 'inflict', 'influential', 'inherent', 'inhibit', 'initiate', 'inject', 'injection', 'injustice', 'inmate', 'inquire', 'insertion', 'insider', 'inspect', 'inspection', 'inspiration', 'instinct', 'institutional', 'instruct', 'instrumental', 'insufficient', 'insult', 'intact', 'intake', 'integral', 'integrated', 'integration', 'integrity', 'intellectual', 'intensify', 'intensity', 'intensive', 'intent', 'interactive', 'interface', 'interfere', 'interference', 'interim', 'interior', 'intermediate', 'intersection', 'intervene', 'intervention', 'intimate', 'intriguing', 'inventory', 'investigator', 'invisible', 'invoke', 'involvement', 'ironic', 'ironically', 'irony', 'irrelevant', 'isolation', 'judicial', 'jurisdiction', 'just', 'justification', 'keen', 'kidnap', 'kidney', 'kingdom', 'landlord', 'landmark', 'lap', 'large-scale', 'laser', 'latter', 'lawmaker', 'lawn', 'lawsuit', 'layout', 'leak', 'leap', 'legacy', 'legendary', 'legislation', 'legislative', 'legislature', 'legitimate', 'lengthy', 'lesbian', 'lesser', 'lethal', 'liable', 'liberal', 'liberation', 'liberty', 'lifelong', 'likelihood', 'limb', 'linear', 'lineup', 'linger', 'listing', 'liter', 'literacy', 'liver', 'lobby', 'log', 'logic', 'long-standing', 'longtime', 'loom', 'loop', 'loyalty', 'machinery', 'magical', 'magnetic', 'magnificent', 'magnitude', 'mainland', 'mainstream', 'maintenance', 'mandate', 'mandatory', 'manifest', 'manipulate', 'manipulation', 'manuscript', 'march', 'marginal', 'marine', 'marketplace', 'mask', 'massacre', 'mathematical', 'mature', 'maximize', 'meaningful', 'meantime', 'medieval', 'meditation', 'melody', 'memo', 'memoir', 'memorial', 'mentor', 'merchant', 'mercy', 'mere', 'merely', 'merge', 'merger', 'merit', 'methodology', 'midst', 'migration', 'militant', 'militia', 'mill', 'minimal', 'minimize', 'mining', 'ministry', 'minute2', 'miracle', 'misery', 'misleading', 'missile', 'mob', 'mobile', 'mobility', 'mobilize', 'moderate', 'modification', 'module', 'momentum', 'monk', 'monopoly', 'morality', 'motive', 'municipal', 'mutual', 'namely', 'nationwide', 'naval', 'neglect', 'neighboring', 'nest', 'net', 'newsletter', 'niche', 'noble', 'nod', 'nominate', 'nomination', 'nominee', 'nonetheless', 'nonprofit', 'nonsense', 'noon', 'notable', 'notably', 'notify', 'notorious', 'novel', 'nursery', 'objection', 'oblige', 'obsess', 'obsession', 'occasional', 'occurrence', 'odds', 'offering', 'offspring', 'operational', 'opt', 'optical', 'optimism', 'oral', 'organizational', 'orientation', 'originate', 'outbreak', 'outing', 'outlet', 'outlook', 'outrage', 'outsider', 'overlook', 'overly', 'oversee', 'overturn', 'overwhelm', 'overwhelming', 'pad', 'parameter', 'parental', 'parliament', 'partial', 'partially', 'passing', 'passive', 'pastor', 'patent', 'pathway', 'patrol', 'patron', 'peak', 'peasant', 'peculiar', 'pension1', 'persist', 'persistent', 'personnel', 'petition', 'philosopher', 'philosophical', 'pioneer', 'pipeline', 'pirate', 'pit', 'plea', 'plead', 'pledge', 'plug', 'plunge', 'pole', 'poll', 'pond', 'pop', 'portfolio', 'portray', 'postpone', 'postwar', 'practitioner', 'preach', 'precedent', 'precision', 'predator', 'predecessor', 'predominantly', 'pregnancy', 'prejudice', 'preliminary', 'premier', 'premise', 'premium', 'prescribe', 'prescription', 'presently', 'preservation', 'preside', 'presidency', 'prestigious', 'presumably', 'presume', 'prevail', 'prevalence', 'prevention', 'prey', 'privatization', 'privilege', 'probe', 'problematic', 'proceeding', 'proceeds', 'processing', 'processor', 'proclaim', 'productive', 'productivity', 'profitable', 'profound', 'projection', 'prominent', 'pronounced', 'propaganda', 'proposition', 'prosecute', 'prosecution', 'prosecutor', 'prospective', 'prosperity', 'protective', 'protocol', 'province', 'provincial', 'provision', 'provoke', 'psychiatric', 'pulse', 'pump', 'punch', 'query', 'quest', 'quota', 'radar', 'radical', 'rage', 'raid', 'rally', 'ranking', 'rape', 'ratio', 'rational', 'ray', 'readily', 'realization', 'realm', 'rear', 'reasoning', 'reassure', 'rebel', 'rebellion', 'recipient', 'reconstruction', 'recount1', 'recruitment', 'referendum', 'reflection', 'reform', 'refuge', 'refusal', 'regain', 'regardless', 'regime', 'regulator', 'regulatory', 'rehabilitation', 'reign', 'rejection', 'relevance', 'reliability', 'reluctant', 'remainder', 'remains', 'remedy', 'reminder', 'removal', 'render', 'renew', 'renowned', 'replacement', 'reportedly', 'representation', 'reproduce', 'reproduction', 'republic', 'resemble', 'reside', 'residence', 'residential', 'residue', 'resignation', 'resistance', 'respective', 'respectively', 'restoration', 'restraint', 'resume', 'retreat', 'retrieve', 'revelation', 'revenge', 'reverse', 'revival', 'revive', 'revolutionary', 'rhetoric', 'rifle', 'riot', 'rip', 'ritual', 'robust', 'rock', 'rod', 'rookie', 'roster', 'rotate', 'rotation', 'ruling', 'rumor', 'sacred', 'sacrifice', 'saint', 'sake', 'sanction', 'say', 'scattered', 'scope', 'screw', 'scrutiny', 'seal', 'secondly', 'secular', 'seemingly', 'segment', 'seize', 'seldom', 'selective', 'sensation', 'sensitivity', 'sentiment', 'separation', 'serial', 'settlement', 'setup', 'sexuality', 'shareholder', 'shatter', 'shed', 'sheer', 'shipping', 'shoot', 'shrink', 'shrug', 'sigh', 'simulate', 'simulation', 'simultaneously', 'sin', 'situated', 'skeptical', 'sketch', 'skip', 'slam', 'slap', 'slash', 'slavery', 'slot', 'smash', 'snap', 'soak', 'soar', 'socialist', 'sole', 'solely', 'solidarity', 'solo', 'sophomore', 'sound', 'sovereignty', 'spam', 'span', 'spare', 'spark', 'specialized', 'specification', 'specimen', 'spectacle', 'spectrum', 'spell', 'sphere', 'spin', 'spine', 'spotlight', 'spouse', 'spy', 'squad', 'squeeze', 'stab', 'stability', 'stabilize', 'stake', 'standing', 'stark', 'statistical', 'steer', 'stem', 'stereotype', 'stimulus', 'stir', 'storage', 'straightforward', 'strain', 'strand', 'strategic', 'striking', 'strip', 'strip', 'strive', 'structural', 'stumble', 'stun', 'submission', 'subscriber', 'subscription', 'subsidy', 'substantial', 'substantially', 'substitute', 'substitution', 'subtle', 'suburban', 'succession', 'successive', 'successor', 'suck', 'sue', 'suicide', 'suite', 'summit', 'superb', 'superintendent', 'superior', 'supervise', 'supervision', 'supervisor', 'supplement', 'supportive', 'supposedly', 'suppress', 'supreme', 'surge', 'surgical', 'surplus', 'surrender', 'surveillance', 'suspension', 'suspicion', 'suspicious', 'sustain', 'swing', 'sword', 'symbolic', 'syndrome', 'synthesis', 'systematic', 'tackle', 'tactic', 'tactical', 'taxpayer', 'tempt', 'tenant', 'tender', 'tenure', 'terminal', 'terminate', 'terrain', 'terrific', 'testify', 'testimony', 'texture', 'thankfully', 'theatrical', 'theology', 'theoretical', 'thereafter', 'thereby', 'thoughtful', 'thought-provoking', 'thread', 'threshold', 'thrilled', 'thrive', 'tide', 'tighten', 'timber', 'timely', 'tobacco', 'tolerance', 'tolerate', 'toll', 'top', 'torture', 'toss', 'total', 'toxic', 'trace', 'trademark', 'trail', 'trailer', 'transaction', 'transcript', 'transformation', 'transit', 'transmission', 'transparency', 'transparent', 'trauma', 'treaty', 'tremendous', 'tribal', 'tribute', 'trigger', 'trio', 'triumph', 'trophy', 'troubled', 'trustee', 'tuition', 'tumor', 'turnout', 'turnover', 'twist', 'unconstitutional', 'undergraduate', 'underlying', 'undermine', 'undoubtedly', 'unify', 'unprecedented', 'unveil', 'upcoming', 'upgrade', 'uphold', 'utility', 'utilize', 'utterly', 'vacuum', 'vague', 'validity', 'vanish', 'variable', 'varied', 'vein', 'venture', 'verbal', 'verdict', 'verify', 'verse', 'versus', 'vessel', 'veteran', 'viable', 'vibrant', 'vice', 'vicious', 'violate', 'violation', 'virtue', 'vocal', 'vow', 'vulnerability', 'vulnerable', 'ward', 'warehouse', 'warfare', 'warrant', 'warrior', 'weaken', 'weave', 'weed', 'well', 'well-being', 'whatsoever', 'whereby', 'whip', 'wholly', 'widen', 'widow', 'width', 'willingness', 'wipe', 'wit', 'withdrawal', 'workout', 'worship', 'worthwhile', 'worthy', 'yell', 'yield'], 'C2': []}\n"
     ]
    }
   ],
   "source": [
    "level_dic = {'A1' : [], 'A2' : [],'B1' : [],'B2' : [],'C1' : [],'C2' : []}\n",
    "\n",
    "with open('./word_data/American_Oxford_3000_by_CEFR_level.txt', 'r', encoding='utf-8') as f:\n",
    "    lines = f.readlines()\n",
    "    level_flag = 0\n",
    "    for line in lines:\n",
    "        line = line.replace('\\n', '')\n",
    "        line = line.replace('\\x0c', '')\n",
    "        line = line.replace(',', '')\n",
    "        word = line.split(' ')\n",
    "        if word[0] == 'A1':\n",
    "            level_flag = 1\n",
    "            continue\n",
    "        elif word[0] == 'A2':\n",
    "            level_flag = 2\n",
    "            continue\n",
    "        elif word[0] == 'B1':\n",
    "            level_flag = 3\n",
    "            continue\n",
    "        elif word[0] == 'B2':\n",
    "            level_flag = 4\n",
    "            continue\n",
    "        elif word[0] == 'C1':\n",
    "            level_flag = 5\n",
    "            continue\n",
    "        elif word[0] == 'C2':\n",
    "            level_flag = 6\n",
    "            continue\n",
    "\n",
    "        if word[0] == '©' or word[0] == '' or word[0].lower() == 'the':\n",
    "            continue\n",
    "        if word[0][0] >= '0' and word[0]<='9':\n",
    "            continue\n",
    "\n",
    "        if level_flag == 1:\n",
    "            level_dic['A1'].append(word[0].lower())\n",
    "        elif level_flag == 2:\n",
    "            level_dic['A2'].append(word[0].lower())\n",
    "        elif level_flag == 3:\n",
    "            level_dic['B1'].append(word[0].lower())\n",
    "        elif level_flag == 4:\n",
    "            level_dic['B2'].append(word[0].lower())\n",
    "        elif level_flag == 5:\n",
    "            level_dic['C1'].append(word[0].lower())\n",
    "        elif level_flag == 6:\n",
    "            level_dic['C2'].append(word[0].lower())\n",
    "\n",
    "    \n",
    "with open('./word_data/American_Oxford_5000_by_CEFR_level.txt', 'r', encoding='utf-8') as f:\n",
    "    lines = f.readlines()\n",
    "    level_flag = 0\n",
    "    for line in lines:\n",
    "        line = line.replace('\\n', '')\n",
    "        line = line.replace('\\x0c', '')\n",
    "        line = line.replace(',', '')\n",
    "        word = line.split(' ')\n",
    "        if word[0] == 'B2':\n",
    "            level_flag = 4\n",
    "            continue\n",
    "        elif word[0] == 'C1':\n",
    "            level_flag = 5\n",
    "            continue\n",
    "        elif word[0] == 'C2':\n",
    "            level_flag = 6\n",
    "            continue\n",
    "        \n",
    "        if word[0] == '©' or word[0] == '' or word[0].lower() == 'the':\n",
    "            continue\n",
    "        if word[0][0] >= '0' and word[0]<='9':\n",
    "            continue\n",
    "\n",
    "        if level_flag == 4:\n",
    "            level_dic['B2'].append(word[0].lower())\n",
    "        elif level_flag == 5:\n",
    "            level_dic['C1'].append(word[0].lower())\n",
    "        elif level_flag == 6:\n",
    "            level_dic['C2'].append(word[0].lower())\n",
    "\n",
    "\n",
    "print(level_dic)\n",
    "\n",
    "        \n",
    "            \n",
    "\n"
   ]
  },
  {
   "cell_type": "code",
   "execution_count": 66,
   "metadata": {},
   "outputs": [
    {
     "output_type": "execute_result",
     "data": {
      "text/plain": [
       "            Word CEFR\n",
       "0              a   A1\n",
       "1          about   A1\n",
       "2          above   A1\n",
       "3         across   A1\n",
       "4         action   A1\n",
       "...          ...  ...\n",
       "5316     worship   C1\n",
       "5317  worthwhile   C1\n",
       "5318      worthy   C1\n",
       "5319        yell   C1\n",
       "5320       yield   C1\n",
       "\n",
       "[4958 rows x 2 columns]"
      ],
      "text/html": "<div>\n<style scoped>\n    .dataframe tbody tr th:only-of-type {\n        vertical-align: middle;\n    }\n\n    .dataframe tbody tr th {\n        vertical-align: top;\n    }\n\n    .dataframe thead th {\n        text-align: right;\n    }\n</style>\n<table border=\"1\" class=\"dataframe\">\n  <thead>\n    <tr style=\"text-align: right;\">\n      <th></th>\n      <th>Word</th>\n      <th>CEFR</th>\n    </tr>\n  </thead>\n  <tbody>\n    <tr>\n      <th>0</th>\n      <td>a</td>\n      <td>A1</td>\n    </tr>\n    <tr>\n      <th>1</th>\n      <td>about</td>\n      <td>A1</td>\n    </tr>\n    <tr>\n      <th>2</th>\n      <td>above</td>\n      <td>A1</td>\n    </tr>\n    <tr>\n      <th>3</th>\n      <td>across</td>\n      <td>A1</td>\n    </tr>\n    <tr>\n      <th>4</th>\n      <td>action</td>\n      <td>A1</td>\n    </tr>\n    <tr>\n      <th>...</th>\n      <td>...</td>\n      <td>...</td>\n    </tr>\n    <tr>\n      <th>5316</th>\n      <td>worship</td>\n      <td>C1</td>\n    </tr>\n    <tr>\n      <th>5317</th>\n      <td>worthwhile</td>\n      <td>C1</td>\n    </tr>\n    <tr>\n      <th>5318</th>\n      <td>worthy</td>\n      <td>C1</td>\n    </tr>\n    <tr>\n      <th>5319</th>\n      <td>yell</td>\n      <td>C1</td>\n    </tr>\n    <tr>\n      <th>5320</th>\n      <td>yield</td>\n      <td>C1</td>\n    </tr>\n  </tbody>\n</table>\n<p>4958 rows × 2 columns</p>\n</div>"
     },
     "metadata": {},
     "execution_count": 66
    }
   ],
   "source": [
    "import pandas as pd\n",
    "\n",
    "df = pd.DataFrame({'Word':[], 'CEFR':[]})\n",
    "\n",
    "key_list = level_dic.keys()\n",
    "\n",
    "for key in key_list:\n",
    "    for word in level_dic[key]:\n",
    "        df.loc[len(df)] = [word, key]\n",
    "\n",
    "df_nodup = df.drop_duplicates('Word', keep='first')\n",
    "df_nodup.to_csv('./word_data/oxford_5000_CEFR.csv')\n",
    "df_nodup\n",
    "    \n"
   ]
  },
  {
   "source": [
    "## CEFR Japanese"
   ],
   "cell_type": "markdown",
   "metadata": {}
  },
  {
   "cell_type": "code",
   "execution_count": 62,
   "metadata": {},
   "outputs": [],
   "source": [
    "import pandas as pd\n",
    "\n",
    "df1 = pd.read_csv('./word_data/cefrj-vocabulary-profile-1.5.csv')\n",
    "df1.drop(['pos','CoreInventory 1','CoreInventory 2','Threshold'], axis=1, inplace=True)\n",
    "df2 = pd.read_csv('./word_data/octanove-vocabulary-profile-c1c2-1.0.csv')\n",
    "df2.drop(['pos','notes'], axis=1, inplace=True)\n",
    "df3 = pd.concat([df1,df2], ignore_index=True)\n",
    "df3.rename(columns={'headword':'Word'}, inplace=True)\n",
    "\n",
    "\n",
    "dup_index = []\n",
    "for i,word in enumerate(df3['Word']):\n",
    "    multi_word = word.split('/')\n",
    "    cefr = df3['CEFR'][i]\n",
    "    if len(multi_word) > 1:\n",
    "        dup_index.append(i)\n",
    "        for single_word in multi_word:\n",
    "            df3.loc[len(df3)] = [single_word, cefr]\n",
    "    \n",
    "\n",
    "df3.drop(dup_index, inplace=True)\n",
    "df3_sort = df3.sort_values(by='CEFR', ascending=True)\n",
    "df3_nodup = df3_sort.drop_duplicates('Word', keep='first')\n",
    "df3_nodup\n",
    "df3_nodup.to_csv('./word_data/cefr_japanese.csv')"
   ]
  },
  {
   "source": [
    "## Dale_Chall_list"
   ],
   "cell_type": "markdown",
   "metadata": {}
  },
  {
   "cell_type": "code",
   "execution_count": 57,
   "metadata": {},
   "outputs": [
    {
     "output_type": "execute_result",
     "data": {
      "text/plain": [
       "            Word\n",
       "0              a\n",
       "1           able\n",
       "2          about\n",
       "3         aboard\n",
       "4         above \n",
       "...          ...\n",
       "2945      you're\n",
       "2946    yourself\n",
       "2947  yourselves\n",
       "2948       youth\n",
       "2949      you've\n",
       "\n",
       "[2950 rows x 1 columns]"
      ],
      "text/html": "<div>\n<style scoped>\n    .dataframe tbody tr th:only-of-type {\n        vertical-align: middle;\n    }\n\n    .dataframe tbody tr th {\n        vertical-align: top;\n    }\n\n    .dataframe thead th {\n        text-align: right;\n    }\n</style>\n<table border=\"1\" class=\"dataframe\">\n  <thead>\n    <tr style=\"text-align: right;\">\n      <th></th>\n      <th>Word</th>\n    </tr>\n  </thead>\n  <tbody>\n    <tr>\n      <th>0</th>\n      <td>a</td>\n    </tr>\n    <tr>\n      <th>1</th>\n      <td>able</td>\n    </tr>\n    <tr>\n      <th>2</th>\n      <td>about</td>\n    </tr>\n    <tr>\n      <th>3</th>\n      <td>aboard</td>\n    </tr>\n    <tr>\n      <th>4</th>\n      <td>above</td>\n    </tr>\n    <tr>\n      <th>...</th>\n      <td>...</td>\n    </tr>\n    <tr>\n      <th>2945</th>\n      <td>you're</td>\n    </tr>\n    <tr>\n      <th>2946</th>\n      <td>yourself</td>\n    </tr>\n    <tr>\n      <th>2947</th>\n      <td>yourselves</td>\n    </tr>\n    <tr>\n      <th>2948</th>\n      <td>youth</td>\n    </tr>\n    <tr>\n      <th>2949</th>\n      <td>you've</td>\n    </tr>\n  </tbody>\n</table>\n<p>2950 rows × 1 columns</p>\n</div>"
     },
     "metadata": {},
     "execution_count": 57
    }
   ],
   "source": [
    "dcl = pd.read_csv('./word_data\\Dale Chall List.txt' , header=None)\n",
    "dcl.rename(columns={0:'Word'}, inplace=True)\n",
    "dcl"
   ]
  },
  {
   "source": [
    "## 두가지 cefr 합치기"
   ],
   "cell_type": "markdown",
   "metadata": {}
  },
  {
   "cell_type": "code",
   "execution_count": 69,
   "metadata": {},
   "outputs": [],
   "source": [
    "merge_3 = pd.merge(df_nodup, df3_nodup, how='outer',on='Word')\n",
    "merge_3.rename(columns={'CEFR_x':'CEFR_o'},inplace=True)\n",
    "merge_3.rename(columns={'CEFR_y':'CEFR_j'},inplace=True)\n",
    "merge_3.to_csv('./word_data/oxford_japanese_merge.csv')"
   ]
  },
  {
   "source": [
    "## 단어 빈도수 자료"
   ],
   "cell_type": "markdown",
   "metadata": {}
  },
  {
   "cell_type": "code",
   "execution_count": 115,
   "metadata": {},
   "outputs": [
    {
     "output_type": "execute_result",
     "data": {
      "text/plain": [
       "       Rank       Word\n",
       "0         1        you\n",
       "1         2          I\n",
       "2         3         to\n",
       "3         4        the\n",
       "4         5          a\n",
       "...     ...        ...\n",
       "9995   9996     orphan\n",
       "9996   9997    nipples\n",
       "9997   9998        nam\n",
       "9998   9999      mural\n",
       "9999  10000  misjudged\n",
       "\n",
       "[10000 rows x 2 columns]"
      ],
      "text/html": "<div>\n<style scoped>\n    .dataframe tbody tr th:only-of-type {\n        vertical-align: middle;\n    }\n\n    .dataframe tbody tr th {\n        vertical-align: top;\n    }\n\n    .dataframe thead th {\n        text-align: right;\n    }\n</style>\n<table border=\"1\" class=\"dataframe\">\n  <thead>\n    <tr style=\"text-align: right;\">\n      <th></th>\n      <th>Rank</th>\n      <th>Word</th>\n    </tr>\n  </thead>\n  <tbody>\n    <tr>\n      <th>0</th>\n      <td>1</td>\n      <td>you</td>\n    </tr>\n    <tr>\n      <th>1</th>\n      <td>2</td>\n      <td>I</td>\n    </tr>\n    <tr>\n      <th>2</th>\n      <td>3</td>\n      <td>to</td>\n    </tr>\n    <tr>\n      <th>3</th>\n      <td>4</td>\n      <td>the</td>\n    </tr>\n    <tr>\n      <th>4</th>\n      <td>5</td>\n      <td>a</td>\n    </tr>\n    <tr>\n      <th>...</th>\n      <td>...</td>\n      <td>...</td>\n    </tr>\n    <tr>\n      <th>9995</th>\n      <td>9996</td>\n      <td>orphan</td>\n    </tr>\n    <tr>\n      <th>9996</th>\n      <td>9997</td>\n      <td>nipples</td>\n    </tr>\n    <tr>\n      <th>9997</th>\n      <td>9998</td>\n      <td>nam</td>\n    </tr>\n    <tr>\n      <th>9998</th>\n      <td>9999</td>\n      <td>mural</td>\n    </tr>\n    <tr>\n      <th>9999</th>\n      <td>10000</td>\n      <td>misjudged</td>\n    </tr>\n  </tbody>\n</table>\n<p>10000 rows × 2 columns</p>\n</div>"
     },
     "metadata": {},
     "execution_count": 115
    }
   ],
   "source": [
    "# tv 영화 스크립트\n",
    "tvdf = pd.read_csv('./word_data/tv_movie_script_freq_10000.txt', sep='\\t')\n",
    "for i, word in enumerate(tvdf['word']):\n",
    "    multi_word = word.split(' ')\n",
    "    if len(multi_word) > 1:\n",
    "        tvdf.replace({'word': word}, {'word': multi_word[0]}, inplace=True)\n",
    "tvdf.drop(['count'],axis=1, inplace=True)\n",
    "tvdf.rename(columns={'word': 'Word'}, inplace=True)\n",
    "tvdf.rename(columns={'rank':'Rank'}, inplace=True)\n",
    "tvdf.to_csv('./word_data/tv_movie_script_10000.csv')\n",
    "tvdf"
   ]
  },
  {
   "cell_type": "code",
   "execution_count": 116,
   "metadata": {},
   "outputs": [
    {
     "output_type": "execute_result",
     "data": {
      "text/plain": [
       "      Rank       Word\n",
       "0        1        the\n",
       "1        2        you\n",
       "2        3          i\n",
       "3        4          a\n",
       "4        5         to\n",
       "...    ...        ...\n",
       "4995  4996    offered\n",
       "4996  4997       boil\n",
       "4997  4998    goodman\n",
       "4998  4999      repay\n",
       "4999  5000  classical\n",
       "\n",
       "[5000 rows x 2 columns]"
      ],
      "text/html": "<div>\n<style scoped>\n    .dataframe tbody tr th:only-of-type {\n        vertical-align: middle;\n    }\n\n    .dataframe tbody tr th {\n        vertical-align: top;\n    }\n\n    .dataframe thead th {\n        text-align: right;\n    }\n</style>\n<table border=\"1\" class=\"dataframe\">\n  <thead>\n    <tr style=\"text-align: right;\">\n      <th></th>\n      <th>Rank</th>\n      <th>Word</th>\n    </tr>\n  </thead>\n  <tbody>\n    <tr>\n      <th>0</th>\n      <td>1</td>\n      <td>the</td>\n    </tr>\n    <tr>\n      <th>1</th>\n      <td>2</td>\n      <td>you</td>\n    </tr>\n    <tr>\n      <th>2</th>\n      <td>3</td>\n      <td>i</td>\n    </tr>\n    <tr>\n      <th>3</th>\n      <td>4</td>\n      <td>a</td>\n    </tr>\n    <tr>\n      <th>4</th>\n      <td>5</td>\n      <td>to</td>\n    </tr>\n    <tr>\n      <th>...</th>\n      <td>...</td>\n      <td>...</td>\n    </tr>\n    <tr>\n      <th>4995</th>\n      <td>4996</td>\n      <td>offered</td>\n    </tr>\n    <tr>\n      <th>4996</th>\n      <td>4997</td>\n      <td>boil</td>\n    </tr>\n    <tr>\n      <th>4997</th>\n      <td>4998</td>\n      <td>goodman</td>\n    </tr>\n    <tr>\n      <th>4998</th>\n      <td>4999</td>\n      <td>repay</td>\n    </tr>\n    <tr>\n      <th>4999</th>\n      <td>5000</td>\n      <td>classical</td>\n    </tr>\n  </tbody>\n</table>\n<p>5000 rows × 2 columns</p>\n</div>"
     },
     "metadata": {},
     "execution_count": 116
    }
   ],
   "source": [
    "# 심슨 대본\n",
    "import re\n",
    "\n",
    "\n",
    "simdf = pd.DataFrame({'Rank':[],'Word':[]})\n",
    "\n",
    "with open('./word_data/simpson_freq_5000.txt', 'r', encoding='utf-8') as f:\n",
    "    lines = f.readlines()\n",
    "    for line in lines[1:]:\n",
    "        tab_line = re.sub(pattern='[ ]+', repl='\\t', string=line)\n",
    "        line_list = tab_line.split('\\t')\n",
    "        simdf.loc[len(simdf)] = [line_list[0],line_list[1]]\n",
    "\n",
    "simdf.to_csv('./word_data/simpson_freq_5000.csv')\n",
    "simdf"
   ]
  },
  {
   "cell_type": "code",
   "execution_count": 117,
   "metadata": {},
   "outputs": [
    {
     "output_type": "execute_result",
     "data": {
      "text/plain": [
       "       Rank         Word\n",
       "0         1          the\n",
       "1         2           of\n",
       "2         3          and\n",
       "3         4           to\n",
       "4         5           in\n",
       "...     ...          ...\n",
       "9994   9996    repressed\n",
       "9995   9997  cooperation\n",
       "9996   9998       sequel\n",
       "9997   9999        wench\n",
       "9998  10000       calves\n",
       "\n",
       "[9999 rows x 2 columns]"
      ],
      "text/html": "<div>\n<style scoped>\n    .dataframe tbody tr th:only-of-type {\n        vertical-align: middle;\n    }\n\n    .dataframe tbody tr th {\n        vertical-align: top;\n    }\n\n    .dataframe thead th {\n        text-align: right;\n    }\n</style>\n<table border=\"1\" class=\"dataframe\">\n  <thead>\n    <tr style=\"text-align: right;\">\n      <th></th>\n      <th>Rank</th>\n      <th>Word</th>\n    </tr>\n  </thead>\n  <tbody>\n    <tr>\n      <th>0</th>\n      <td>1</td>\n      <td>the</td>\n    </tr>\n    <tr>\n      <th>1</th>\n      <td>2</td>\n      <td>of</td>\n    </tr>\n    <tr>\n      <th>2</th>\n      <td>3</td>\n      <td>and</td>\n    </tr>\n    <tr>\n      <th>3</th>\n      <td>4</td>\n      <td>to</td>\n    </tr>\n    <tr>\n      <th>4</th>\n      <td>5</td>\n      <td>in</td>\n    </tr>\n    <tr>\n      <th>...</th>\n      <td>...</td>\n      <td>...</td>\n    </tr>\n    <tr>\n      <th>9994</th>\n      <td>9996</td>\n      <td>repressed</td>\n    </tr>\n    <tr>\n      <th>9995</th>\n      <td>9997</td>\n      <td>cooperation</td>\n    </tr>\n    <tr>\n      <th>9996</th>\n      <td>9998</td>\n      <td>sequel</td>\n    </tr>\n    <tr>\n      <th>9997</th>\n      <td>9999</td>\n      <td>wench</td>\n    </tr>\n    <tr>\n      <th>9998</th>\n      <td>10000</td>\n      <td>calves</td>\n    </tr>\n  </tbody>\n</table>\n<p>9999 rows × 2 columns</p>\n</div>"
     },
     "metadata": {},
     "execution_count": 117
    }
   ],
   "source": [
    "# project gutenberg\n",
    " \n",
    "pgdf = pd.read_csv('./word_data/project_gutenberg_10000.txt', sep='\\t')\n",
    "pgdf.drop(['Count (per billion)'], axis=1, inplace=True)\n",
    "pgdf.to_csv('./word_data/project_gutenberg_10000.csv')\n",
    "pgdf"
   ]
  },
  {
   "cell_type": "code",
   "execution_count": 120,
   "metadata": {},
   "outputs": [
    {
     "output_type": "execute_result",
     "data": {
      "text/plain": [
       "       Rank_tv          Word Rank_sim\n",
       "0          1.0           you        2\n",
       "1          2.0             I      NaN\n",
       "2          3.0            to        5\n",
       "3          4.0           the        1\n",
       "4          5.0             a        4\n",
       "...        ...           ...      ...\n",
       "10854      NaN   bombardment     4978\n",
       "10855      NaN  whoop-dee-do     4987\n",
       "10856      NaN       pencils     4990\n",
       "10857      NaN       goodman     4998\n",
       "10858      NaN     classical     5000\n",
       "\n",
       "[10859 rows x 3 columns]"
      ],
      "text/html": "<div>\n<style scoped>\n    .dataframe tbody tr th:only-of-type {\n        vertical-align: middle;\n    }\n\n    .dataframe tbody tr th {\n        vertical-align: top;\n    }\n\n    .dataframe thead th {\n        text-align: right;\n    }\n</style>\n<table border=\"1\" class=\"dataframe\">\n  <thead>\n    <tr style=\"text-align: right;\">\n      <th></th>\n      <th>Rank_tv</th>\n      <th>Word</th>\n      <th>Rank_sim</th>\n    </tr>\n  </thead>\n  <tbody>\n    <tr>\n      <th>0</th>\n      <td>1.0</td>\n      <td>you</td>\n      <td>2</td>\n    </tr>\n    <tr>\n      <th>1</th>\n      <td>2.0</td>\n      <td>I</td>\n      <td>NaN</td>\n    </tr>\n    <tr>\n      <th>2</th>\n      <td>3.0</td>\n      <td>to</td>\n      <td>5</td>\n    </tr>\n    <tr>\n      <th>3</th>\n      <td>4.0</td>\n      <td>the</td>\n      <td>1</td>\n    </tr>\n    <tr>\n      <th>4</th>\n      <td>5.0</td>\n      <td>a</td>\n      <td>4</td>\n    </tr>\n    <tr>\n      <th>...</th>\n      <td>...</td>\n      <td>...</td>\n      <td>...</td>\n    </tr>\n    <tr>\n      <th>10854</th>\n      <td>NaN</td>\n      <td>bombardment</td>\n      <td>4978</td>\n    </tr>\n    <tr>\n      <th>10855</th>\n      <td>NaN</td>\n      <td>whoop-dee-do</td>\n      <td>4987</td>\n    </tr>\n    <tr>\n      <th>10856</th>\n      <td>NaN</td>\n      <td>pencils</td>\n      <td>4990</td>\n    </tr>\n    <tr>\n      <th>10857</th>\n      <td>NaN</td>\n      <td>goodman</td>\n      <td>4998</td>\n    </tr>\n    <tr>\n      <th>10858</th>\n      <td>NaN</td>\n      <td>classical</td>\n      <td>5000</td>\n    </tr>\n  </tbody>\n</table>\n<p>10859 rows × 3 columns</p>\n</div>"
     },
     "metadata": {},
     "execution_count": 120
    }
   ],
   "source": [
    "# tv simpson 합치기\n",
    "freq_merge = pd.merge(tvdf, simdf, how='outer',on='Word')\n",
    "freq_merge.rename(columns={'Rank_x':'Rank_tv'}, inplace=True)\n",
    "freq_merge.rename(columns={'Rank_y':'Rank_sim'}, inplace=True)\n",
    "freq_merge\n",
    "\n",
    "# 800단어밖에 차이안남 \n"
   ]
  },
  {
   "cell_type": "code",
   "execution_count": 127,
   "metadata": {},
   "outputs": [],
   "source": [
    "#tv pg 합치기\n",
    "freq_merge2 = pd.merge(freq_merge, pgdf, how='outer',on='Word')\n",
    "freq_merge2.rename(columns={'Rank':'Rank_pg'}, inplace=True)\n",
    "freq_merge2.to_csv('./word_data/freq_merge.csv')\n",
    "#4000단어 차이남"
   ]
  },
  {
   "cell_type": "code",
   "execution_count": 1,
   "metadata": {},
   "outputs": [
    {
     "output_type": "execute_result",
     "data": {
      "text/plain": [
       "       Unnamed: 0  Rank_tv           Word  Rank_sim  Rank_pg\n",
       "0               0      1.0            you       2.0     17.0\n",
       "1               1      2.0              I       NaN      NaN\n",
       "2               2      3.0             to       5.0      4.0\n",
       "3               3      4.0            the       1.0      1.0\n",
       "4               4      5.0              a       4.0     85.0\n",
       "...           ...      ...            ...       ...      ...\n",
       "14909       14909      NaN  significantly       NaN   9993.0\n",
       "14910       14910      NaN      repressed       NaN   9996.0\n",
       "14911       14911      NaN         sequel       NaN   9998.0\n",
       "14912       14912      NaN          wench       NaN   9999.0\n",
       "14913       14913      NaN         calves       NaN  10000.0\n",
       "\n",
       "[14914 rows x 5 columns]"
      ],
      "text/html": "<div>\n<style scoped>\n    .dataframe tbody tr th:only-of-type {\n        vertical-align: middle;\n    }\n\n    .dataframe tbody tr th {\n        vertical-align: top;\n    }\n\n    .dataframe thead th {\n        text-align: right;\n    }\n</style>\n<table border=\"1\" class=\"dataframe\">\n  <thead>\n    <tr style=\"text-align: right;\">\n      <th></th>\n      <th>Unnamed: 0</th>\n      <th>Rank_tv</th>\n      <th>Word</th>\n      <th>Rank_sim</th>\n      <th>Rank_pg</th>\n    </tr>\n  </thead>\n  <tbody>\n    <tr>\n      <th>0</th>\n      <td>0</td>\n      <td>1.0</td>\n      <td>you</td>\n      <td>2.0</td>\n      <td>17.0</td>\n    </tr>\n    <tr>\n      <th>1</th>\n      <td>1</td>\n      <td>2.0</td>\n      <td>I</td>\n      <td>NaN</td>\n      <td>NaN</td>\n    </tr>\n    <tr>\n      <th>2</th>\n      <td>2</td>\n      <td>3.0</td>\n      <td>to</td>\n      <td>5.0</td>\n      <td>4.0</td>\n    </tr>\n    <tr>\n      <th>3</th>\n      <td>3</td>\n      <td>4.0</td>\n      <td>the</td>\n      <td>1.0</td>\n      <td>1.0</td>\n    </tr>\n    <tr>\n      <th>4</th>\n      <td>4</td>\n      <td>5.0</td>\n      <td>a</td>\n      <td>4.0</td>\n      <td>85.0</td>\n    </tr>\n    <tr>\n      <th>...</th>\n      <td>...</td>\n      <td>...</td>\n      <td>...</td>\n      <td>...</td>\n      <td>...</td>\n    </tr>\n    <tr>\n      <th>14909</th>\n      <td>14909</td>\n      <td>NaN</td>\n      <td>significantly</td>\n      <td>NaN</td>\n      <td>9993.0</td>\n    </tr>\n    <tr>\n      <th>14910</th>\n      <td>14910</td>\n      <td>NaN</td>\n      <td>repressed</td>\n      <td>NaN</td>\n      <td>9996.0</td>\n    </tr>\n    <tr>\n      <th>14911</th>\n      <td>14911</td>\n      <td>NaN</td>\n      <td>sequel</td>\n      <td>NaN</td>\n      <td>9998.0</td>\n    </tr>\n    <tr>\n      <th>14912</th>\n      <td>14912</td>\n      <td>NaN</td>\n      <td>wench</td>\n      <td>NaN</td>\n      <td>9999.0</td>\n    </tr>\n    <tr>\n      <th>14913</th>\n      <td>14913</td>\n      <td>NaN</td>\n      <td>calves</td>\n      <td>NaN</td>\n      <td>10000.0</td>\n    </tr>\n  </tbody>\n</table>\n<p>14914 rows × 5 columns</p>\n</div>"
     },
     "metadata": {},
     "execution_count": 1
    }
   ],
   "source": [
    "import pandas as pd\n",
    "\n",
    "df = pd.read_csv('./word_data/freq_merge.csv')\n",
    "df"
   ]
  }
 ]
}